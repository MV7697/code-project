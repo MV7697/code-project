{
  "nbformat": 4,
  "nbformat_minor": 0,
  "metadata": {
    "colab": {
      "provenance": []
    },
    "kernelspec": {
      "name": "python3",
      "display_name": "Python 3"
    },
    "language_info": {
      "name": "python"
    }
  },
  "cells": [
    {
      "cell_type": "code",
      "execution_count": 1,
      "metadata": {
        "colab": {
          "base_uri": "https://localhost:8080/"
        },
        "collapsed": true,
        "id": "BYrsOOoBhUCi",
        "outputId": "2581a5bd-edcd-4884-98ce-4e7b9a013d3a"
      },
      "outputs": [
        {
          "output_type": "stream",
          "name": "stdout",
          "text": [
            "   age          workclass  fnlwgt   education  education_num  \\\n",
            "0   39          State-gov   77516   Bachelors             13   \n",
            "1   50   Self-emp-not-inc   83311   Bachelors             13   \n",
            "2   38            Private  215646     HS-grad              9   \n",
            "3   53            Private  234721        11th              7   \n",
            "4   28            Private  338409   Bachelors             13   \n",
            "\n",
            "        marital_status          occupation    relationship    race      sex  \\\n",
            "0        Never-married        Adm-clerical   Not-in-family   White     Male   \n",
            "1   Married-civ-spouse     Exec-managerial         Husband   White     Male   \n",
            "2             Divorced   Handlers-cleaners   Not-in-family   White     Male   \n",
            "3   Married-civ-spouse   Handlers-cleaners         Husband   Black     Male   \n",
            "4   Married-civ-spouse      Prof-specialty            Wife   Black   Female   \n",
            "\n",
            "   capital_gain  capital_loss  hours_per_week  native_country  income  \n",
            "0          2174             0              40   United-States   <=50K  \n",
            "1             0             0              13   United-States   <=50K  \n",
            "2             0             0              40   United-States   <=50K  \n",
            "3             0             0              40   United-States   <=50K  \n",
            "4             0             0              40            Cuba   <=50K  \n",
            "                age        fnlwgt  education_num  capital_gain  capital_loss  \\\n",
            "count  32561.000000  3.256100e+04   32561.000000  32561.000000  32561.000000   \n",
            "mean      38.581647  1.897784e+05      10.080679   1077.648844     87.303830   \n",
            "std       13.640433  1.055500e+05       2.572720   7385.292085    402.960219   \n",
            "min       17.000000  1.228500e+04       1.000000      0.000000      0.000000   \n",
            "25%       28.000000  1.178270e+05       9.000000      0.000000      0.000000   \n",
            "50%       37.000000  1.783560e+05      10.000000      0.000000      0.000000   \n",
            "75%       48.000000  2.370510e+05      12.000000      0.000000      0.000000   \n",
            "max       90.000000  1.484705e+06      16.000000  99999.000000   4356.000000   \n",
            "\n",
            "       hours_per_week  \n",
            "count    32561.000000  \n",
            "mean        40.437456  \n",
            "std         12.347429  \n",
            "min          1.000000  \n",
            "25%         40.000000  \n",
            "50%         40.000000  \n",
            "75%         45.000000  \n",
            "max         99.000000  \n",
            "<class 'pandas.core.frame.DataFrame'>\n",
            "RangeIndex: 32561 entries, 0 to 32560\n",
            "Data columns (total 15 columns):\n",
            " #   Column          Non-Null Count  Dtype \n",
            "---  ------          --------------  ----- \n",
            " 0   age             32561 non-null  int64 \n",
            " 1   workclass       32561 non-null  object\n",
            " 2   fnlwgt          32561 non-null  int64 \n",
            " 3   education       32561 non-null  object\n",
            " 4   education_num   32561 non-null  int64 \n",
            " 5   marital_status  32561 non-null  object\n",
            " 6   occupation      32561 non-null  object\n",
            " 7   relationship    32561 non-null  object\n",
            " 8   race            32561 non-null  object\n",
            " 9   sex             32561 non-null  object\n",
            " 10  capital_gain    32561 non-null  int64 \n",
            " 11  capital_loss    32561 non-null  int64 \n",
            " 12  hours_per_week  32561 non-null  int64 \n",
            " 13  native_country  32561 non-null  object\n",
            " 14  income          32561 non-null  object\n",
            "dtypes: int64(6), object(9)\n",
            "memory usage: 3.7+ MB\n",
            "None\n"
          ]
        }
      ],
      "source": [
        "import pandas as pd\n",
        "\n",
        "# Load the Adult dataset (assuming you have a file or URL)\n",
        "df = pd.read_csv('/content/adult_with_headers.csv')\n",
        "\n",
        "# Display the first few rows to get an overview of the data\n",
        "print(df.head())\n",
        "\n",
        "# Summary statistics for numerical features\n",
        "print(df.describe())\n",
        "\n",
        "# Check data types and missing values\n",
        "print(df.info())"
      ]
    },
    {
      "cell_type": "code",
      "source": [
        "# Checking for missing values\n",
        "missing_values = df.isnull().sum()\n",
        "print(missing_values)\n",
        "\n",
        "# Imputation for numerical columns with missing values\n",
        "df['age'].fillna(df['age'].mean(), inplace=True)\n",
        "\n",
        "# Removal for rows with missing target variable\n",
        "df.dropna(subset=['income'], inplace=True)"
      ],
      "metadata": {
        "colab": {
          "base_uri": "https://localhost:8080/"
        },
        "collapsed": true,
        "id": "MqVZBWqKh54h",
        "outputId": "3ac0e8a4-1208-43b8-c2d6-37be07342d98"
      },
      "execution_count": 3,
      "outputs": [
        {
          "output_type": "stream",
          "name": "stdout",
          "text": [
            "age               0\n",
            "workclass         0\n",
            "fnlwgt            0\n",
            "education         0\n",
            "education_num     0\n",
            "marital_status    0\n",
            "occupation        0\n",
            "relationship      0\n",
            "race              0\n",
            "sex               0\n",
            "capital_gain      0\n",
            "capital_loss      0\n",
            "hours_per_week    0\n",
            "native_country    0\n",
            "income            0\n",
            "dtype: int64\n"
          ]
        },
        {
          "output_type": "stream",
          "name": "stderr",
          "text": [
            "<ipython-input-3-a8c8c5dda724>:6: FutureWarning: A value is trying to be set on a copy of a DataFrame or Series through chained assignment using an inplace method.\n",
            "The behavior will change in pandas 3.0. This inplace method will never work because the intermediate object on which we are setting values always behaves as a copy.\n",
            "\n",
            "For example, when doing 'df[col].method(value, inplace=True)', try using 'df.method({col: value}, inplace=True)' or df[col] = df[col].method(value) instead, to perform the operation inplace on the original object.\n",
            "\n",
            "\n",
            "  df['age'].fillna(df['age'].mean(), inplace=True)\n"
          ]
        }
      ]
    },
    {
      "cell_type": "code",
      "source": [
        "from sklearn.preprocessing import StandardScaler, MinMaxScaler\n",
        "\n",
        "# Select numerical columns for scaling\n",
        "numerical_cols = df.select_dtypes(include=['int64', 'float64']).columns\n",
        "\n",
        "# Standard Scaling\n",
        "scaler_standard = StandardScaler()\n",
        "df[numerical_cols] = scaler_standard.fit_transform(df[numerical_cols])\n",
        "\n",
        "# Min-Max Scaling\n",
        "scaler_minmax = MinMaxScaler()\n",
        "df[numerical_cols] = scaler_minmax.fit_transform(df[numerical_cols])"
      ],
      "metadata": {
        "id": "7U1_6SEriA1L"
      },
      "execution_count": 4,
      "outputs": []
    },
    {
      "cell_type": "code",
      "source": [
        "# Applying One-Hot Encoding for categorical columns with less than 5 categories\n",
        "categorical_cols_less_than_5 = [col for col in df.select_dtypes(include=['object']).columns if df[col].nunique() < 5]\n",
        "df = pd.get_dummies(df, columns=categorical_cols_less_than_5, drop_first=True)"
      ],
      "metadata": {
        "id": "Xhfl6xl1iFh3"
      },
      "execution_count": 6,
      "outputs": []
    },
    {
      "cell_type": "code",
      "source": [
        "from sklearn.preprocessing import LabelEncoder\n",
        "\n",
        "# Apply Label Encoding for categorical columns with more than 5 categories\n",
        "categorical_cols_more_than_5 = [col for col in df.select_dtypes(include=['object']).columns if df[col].nunique() > 5]\n",
        "\n",
        "label_encoder = LabelEncoder()\n",
        "for col in categorical_cols_more_than_5:\n",
        "    df[col] = label_encoder.fit_transform(df[col])"
      ],
      "metadata": {
        "id": "K_id9iSdiLIl"
      },
      "execution_count": 7,
      "outputs": []
    },
    {
      "cell_type": "code",
      "source": [
        "import numpy as np\n",
        "\n",
        "# Check the skewness of numerical features\n",
        "skewed_features = df[numerical_cols].skew()\n",
        "print(skewed_features)\n",
        "\n",
        "# Apply log transformation to skewed features\n",
        "df['log_age'] = np.log1p(df['age'])  # Log transformation"
      ],
      "metadata": {
        "collapsed": true,
        "colab": {
          "base_uri": "https://localhost:8080/"
        },
        "id": "9VYGxqsmi5bs",
        "outputId": "d50e3119-ce0f-48f6-ac5d-f99c7348faa1"
      },
      "execution_count": 10,
      "outputs": [
        {
          "output_type": "stream",
          "name": "stdout",
          "text": [
            "age                0.558743\n",
            "fnlwgt             1.446980\n",
            "education_num     -0.311676\n",
            "capital_gain      11.953848\n",
            "capital_loss       4.594629\n",
            "hours_per_week     0.227643\n",
            "dtype: float64\n"
          ]
        }
      ]
    },
    {
      "cell_type": "code",
      "source": [
        "from sklearn.ensemble import IsolationForest\n",
        "\n",
        "# Fit the model to the data\n",
        "isolation_forest = IsolationForest(contamination=0.05)  # 5% of data is assumed to be outliers\n",
        "outliers = isolation_forest.fit_predict(df[numerical_cols])\n",
        "\n",
        "# Mark the outliers as 1 and inliers as -1, then remove outliers\n",
        "df = df[outliers == 1]"
      ],
      "metadata": {
        "id": "wgo1Aw45i9n3"
      },
      "execution_count": 11,
      "outputs": []
    },
    {
      "cell_type": "code",
      "source": [
        "!pip install ppscore\n",
        "import ppscore as pps\n",
        "\n",
        "# Compute the PPS matrix for specific columns\n",
        "pps_matrix = pps.matrix(df)\n",
        "print(pps_matrix)\n",
        "\n",
        "for col in df.select_dtypes(include=['object', 'category']).columns:\n",
        "    # exploring One-Hot Encoding for better performance\n",
        "    df[col] = label_encoder.fit_transform(df[col])\n",
        "\n",
        "# Now calculating the correlation matrix\n",
        "correlation_matrix = df.corr()\n",
        "print(correlation_matrix)"
      ],
      "metadata": {
        "colab": {
          "base_uri": "https://localhost:8080/"
        },
        "collapsed": true,
        "id": "sVOAT_yQi_vl",
        "outputId": "4bf7c3fb-68b3-4cad-ca55-6ac894f64a28"
      },
      "execution_count": 17,
      "outputs": [
        {
          "output_type": "stream",
          "name": "stdout",
          "text": [
            "Requirement already satisfied: ppscore in /usr/local/lib/python3.11/dist-packages (1.3.0)\n",
            "Requirement already satisfied: pandas<2.0.0,>=1.0.0 in /usr/local/lib/python3.11/dist-packages (from ppscore) (1.5.3)\n",
            "Requirement already satisfied: scikit-learn<2.0.0,>=0.20.2 in /usr/local/lib/python3.11/dist-packages (from ppscore) (1.6.1)\n",
            "Requirement already satisfied: python-dateutil>=2.8.1 in /usr/local/lib/python3.11/dist-packages (from pandas<2.0.0,>=1.0.0->ppscore) (2.8.2)\n",
            "Requirement already satisfied: pytz>=2020.1 in /usr/local/lib/python3.11/dist-packages (from pandas<2.0.0,>=1.0.0->ppscore) (2025.1)\n",
            "Requirement already satisfied: numpy>=1.21.0 in /usr/local/lib/python3.11/dist-packages (from pandas<2.0.0,>=1.0.0->ppscore) (2.0.2)\n",
            "Requirement already satisfied: scipy>=1.6.0 in /usr/local/lib/python3.11/dist-packages (from scikit-learn<2.0.0,>=0.20.2->ppscore) (1.14.1)\n",
            "Requirement already satisfied: joblib>=1.2.0 in /usr/local/lib/python3.11/dist-packages (from scikit-learn<2.0.0,>=0.20.2->ppscore) (1.4.2)\n",
            "Requirement already satisfied: threadpoolctl>=3.1.0 in /usr/local/lib/python3.11/dist-packages (from scikit-learn<2.0.0,>=0.20.2->ppscore) (3.6.0)\n",
            "Requirement already satisfied: six>=1.5 in /usr/local/lib/python3.11/dist-packages (from python-dateutil>=2.8.1->pandas<2.0.0,>=1.0.0->ppscore) (1.17.0)\n",
            "           x               y  ppscore            case  is_valid_score  \\\n",
            "0        age             age      1.0  predict_itself            True   \n",
            "1        age       workclass      0.0      regression            True   \n",
            "2        age          fnlwgt      0.0      regression            True   \n",
            "3        age       education      0.0      regression            True   \n",
            "4        age   education_num      0.0      regression            True   \n",
            "..       ...             ...      ...             ...             ...   \n",
            "284  log_age  native_country      0.0      regression            True   \n",
            "285  log_age       sex_ Male      0.0  classification            True   \n",
            "286  log_age    income_ >50K      0.0  classification            True   \n",
            "287  log_age       age_group      1.0      regression            True   \n",
            "288  log_age         log_age      1.0  predict_itself            True   \n",
            "\n",
            "                  metric  baseline_score  model_score  \\\n",
            "0                   None        0.000000     1.000000   \n",
            "1    mean absolute error        0.715600     0.846717   \n",
            "2    mean absolute error        0.049556     0.050204   \n",
            "3    mean absolute error        2.668600     2.730083   \n",
            "4    mean absolute error        0.116467     0.119303   \n",
            "..                   ...             ...          ...   \n",
            "284  mean absolute error        2.223600     4.005299   \n",
            "285          weighted F1        0.552400     0.548705   \n",
            "286          weighted F1        0.674032     0.673835   \n",
            "287  mean absolute error        0.010400     0.000000   \n",
            "288                 None        0.000000     1.000000   \n",
            "\n",
            "                        model  \n",
            "0                        None  \n",
            "1     DecisionTreeRegressor()  \n",
            "2     DecisionTreeRegressor()  \n",
            "3     DecisionTreeRegressor()  \n",
            "4     DecisionTreeRegressor()  \n",
            "..                        ...  \n",
            "284   DecisionTreeRegressor()  \n",
            "285  DecisionTreeClassifier()  \n",
            "286  DecisionTreeClassifier()  \n",
            "287   DecisionTreeRegressor()  \n",
            "288                      None  \n",
            "\n",
            "[289 rows x 9 columns]\n",
            "                     age  workclass    fnlwgt  education  education_num  \\\n",
            "age             1.000000   0.014502 -0.082803   0.003951       0.044444   \n",
            "workclass       0.014502   1.000000 -0.017433   0.017235       0.044253   \n",
            "fnlwgt         -0.082803  -0.017433  1.000000  -0.020963      -0.044524   \n",
            "education       0.003951   0.017235 -0.020963   1.000000       0.342278   \n",
            "education_num   0.044444   0.044253 -0.044524   0.342278       1.000000   \n",
            "marital_status -0.293158  -0.059609  0.028820  -0.033112      -0.055839   \n",
            "occupation     -0.013750   0.244524 -0.002705  -0.027488       0.104450   \n",
            "relationship   -0.262807  -0.091288  0.008587  -0.010864      -0.088866   \n",
            "race            0.027365   0.048764 -0.022403   0.012901       0.028212   \n",
            "capital_gain    0.092701   0.023195 -0.008861   0.019562       0.132556   \n",
            "capital_loss    0.025868  -0.005008 -0.025926   0.031701       0.044884   \n",
            "hours_per_week  0.105737   0.128202 -0.012236   0.046144       0.130512   \n",
            "native_country  0.001333  -0.005494 -0.054104   0.063420       0.050327   \n",
            "sex_ Male       0.087732   0.093855  0.027595  -0.030635       0.002206   \n",
            "income_ >50K    0.234860   0.039034 -0.013472   0.069193       0.311045   \n",
            "age_group      -0.175969  -0.037992 -0.009729  -0.255031      -0.150413   \n",
            "log_age         0.997001   0.023939 -0.081583   0.009469       0.057870   \n",
            "\n",
            "                marital_status  occupation  relationship      race  \\\n",
            "age                  -0.293158   -0.013750     -0.262807  0.027365   \n",
            "workclass            -0.059609    0.244524     -0.091288  0.048764   \n",
            "fnlwgt                0.028820   -0.002705      0.008587 -0.022403   \n",
            "education            -0.033112   -0.027488     -0.010864  0.012901   \n",
            "education_num        -0.055839    0.104450     -0.088866  0.028212   \n",
            "marital_status        1.000000   -0.006240      0.183390 -0.067140   \n",
            "occupation           -0.006240    1.000000     -0.075475  0.007419   \n",
            "relationship          0.183390   -0.075475      1.000000 -0.119020   \n",
            "race                 -0.067140    0.007419     -0.119020  1.000000   \n",
            "capital_gain         -0.063344    0.018658     -0.071272  0.019886   \n",
            "capital_loss         -0.035801    0.009743     -0.050528  0.019081   \n",
            "hours_per_week       -0.189967    0.071277     -0.255549  0.045188   \n",
            "native_country       -0.024744   -0.012394     -0.005533  0.135715   \n",
            "sex_ Male            -0.121444    0.080110     -0.579377  0.088273   \n",
            "income_ >50K         -0.195771    0.070421     -0.244887  0.070656   \n",
            "age_group             0.100470    0.008084      0.098275  0.013613   \n",
            "log_age              -0.316073   -0.009048     -0.271752  0.024331   \n",
            "\n",
            "                capital_gain  capital_loss  hours_per_week  native_country  \\\n",
            "age                 0.092701      0.025868        0.105737        0.001333   \n",
            "workclass           0.023195     -0.005008        0.128202       -0.005494   \n",
            "fnlwgt             -0.008861     -0.025926       -0.012236       -0.054104   \n",
            "education           0.019562      0.031701        0.046144        0.063420   \n",
            "education_num       0.132556      0.044884        0.130512        0.050327   \n",
            "marital_status     -0.063344     -0.035801       -0.189967       -0.024744   \n",
            "occupation          0.018658      0.009743        0.071277       -0.012394   \n",
            "relationship       -0.071272     -0.050528       -0.255549       -0.005533   \n",
            "race                0.019886      0.019081        0.045188        0.135715   \n",
            "capital_gain        1.000000     -0.035876        0.079306        0.012137   \n",
            "capital_loss       -0.035876      1.000000        0.016995        0.015113   \n",
            "hours_per_week      0.079306      0.016995        1.000000       -0.000026   \n",
            "native_country      0.012137      0.015113       -0.000026        1.000000   \n",
            "sex_ Male           0.060852      0.037782        0.231983       -0.008589   \n",
            "income_ >50K        0.310353      0.097807        0.221388        0.019152   \n",
            "age_group          -0.023953     -0.017165       -0.176727        0.017416   \n",
            "log_age             0.097876      0.030874        0.132196       -0.000965   \n",
            "\n",
            "                sex_ Male  income_ >50K  age_group   log_age  \n",
            "age              0.087732      0.234860  -0.175969  0.997001  \n",
            "workclass        0.093855      0.039034  -0.037992  0.023939  \n",
            "fnlwgt           0.027595     -0.013472  -0.009729 -0.081583  \n",
            "education       -0.030635      0.069193  -0.255031  0.009469  \n",
            "education_num    0.002206      0.311045  -0.150413  0.057870  \n",
            "marital_status  -0.121444     -0.195771   0.100470 -0.316073  \n",
            "occupation       0.080110      0.070421   0.008084 -0.009048  \n",
            "relationship    -0.579377     -0.244887   0.098275 -0.271752  \n",
            "race             0.088273      0.070656   0.013613  0.024331  \n",
            "capital_gain     0.060852      0.310353  -0.023953  0.097876  \n",
            "capital_loss     0.037782      0.097807  -0.017165  0.030874  \n",
            "hours_per_week   0.231983      0.221388  -0.176727  0.132196  \n",
            "native_country  -0.008589      0.019152   0.017416 -0.000965  \n",
            "sex_ Male        1.000000      0.209768  -0.028613  0.093982  \n",
            "income_ >50K     0.209768      1.000000  -0.059363  0.249615  \n",
            "age_group       -0.028613     -0.059363   1.000000 -0.194796  \n",
            "log_age          0.093982      0.249615  -0.194796  1.000000  \n"
          ]
        }
      ]
    },
    {
      "cell_type": "code",
      "source": [
        "# Comparing with correlation matrix\n",
        "correlation_matrix = df.corr()\n",
        "print(correlation_matrix)"
      ],
      "metadata": {
        "colab": {
          "base_uri": "https://localhost:8080/"
        },
        "collapsed": true,
        "id": "C3_9Nz06j2vN",
        "outputId": "69bedfca-b220-49d6-f6f0-8b33a1a717e8"
      },
      "execution_count": 16,
      "outputs": [
        {
          "output_type": "stream",
          "name": "stdout",
          "text": [
            "                     age  workclass    fnlwgt  education  education_num  \\\n",
            "age             1.000000   0.014502 -0.082803   0.003951       0.044444   \n",
            "workclass       0.014502   1.000000 -0.017433   0.017235       0.044253   \n",
            "fnlwgt         -0.082803  -0.017433  1.000000  -0.020963      -0.044524   \n",
            "education       0.003951   0.017235 -0.020963   1.000000       0.342278   \n",
            "education_num   0.044444   0.044253 -0.044524   0.342278       1.000000   \n",
            "marital_status -0.293158  -0.059609  0.028820  -0.033112      -0.055839   \n",
            "occupation     -0.013750   0.244524 -0.002705  -0.027488       0.104450   \n",
            "relationship   -0.262807  -0.091288  0.008587  -0.010864      -0.088866   \n",
            "race            0.027365   0.048764 -0.022403   0.012901       0.028212   \n",
            "capital_gain    0.092701   0.023195 -0.008861   0.019562       0.132556   \n",
            "capital_loss    0.025868  -0.005008 -0.025926   0.031701       0.044884   \n",
            "hours_per_week  0.105737   0.128202 -0.012236   0.046144       0.130512   \n",
            "native_country  0.001333  -0.005494 -0.054104   0.063420       0.050327   \n",
            "sex_ Male       0.087732   0.093855  0.027595  -0.030635       0.002206   \n",
            "income_ >50K    0.234860   0.039034 -0.013472   0.069193       0.311045   \n",
            "age_group      -0.175969  -0.037992 -0.009729  -0.255031      -0.150413   \n",
            "log_age         0.997001   0.023939 -0.081583   0.009469       0.057870   \n",
            "\n",
            "                marital_status  occupation  relationship      race  \\\n",
            "age                  -0.293158   -0.013750     -0.262807  0.027365   \n",
            "workclass            -0.059609    0.244524     -0.091288  0.048764   \n",
            "fnlwgt                0.028820   -0.002705      0.008587 -0.022403   \n",
            "education            -0.033112   -0.027488     -0.010864  0.012901   \n",
            "education_num        -0.055839    0.104450     -0.088866  0.028212   \n",
            "marital_status        1.000000   -0.006240      0.183390 -0.067140   \n",
            "occupation           -0.006240    1.000000     -0.075475  0.007419   \n",
            "relationship          0.183390   -0.075475      1.000000 -0.119020   \n",
            "race                 -0.067140    0.007419     -0.119020  1.000000   \n",
            "capital_gain         -0.063344    0.018658     -0.071272  0.019886   \n",
            "capital_loss         -0.035801    0.009743     -0.050528  0.019081   \n",
            "hours_per_week       -0.189967    0.071277     -0.255549  0.045188   \n",
            "native_country       -0.024744   -0.012394     -0.005533  0.135715   \n",
            "sex_ Male            -0.121444    0.080110     -0.579377  0.088273   \n",
            "income_ >50K         -0.195771    0.070421     -0.244887  0.070656   \n",
            "age_group             0.100470    0.008084      0.098275  0.013613   \n",
            "log_age              -0.316073   -0.009048     -0.271752  0.024331   \n",
            "\n",
            "                capital_gain  capital_loss  hours_per_week  native_country  \\\n",
            "age                 0.092701      0.025868        0.105737        0.001333   \n",
            "workclass           0.023195     -0.005008        0.128202       -0.005494   \n",
            "fnlwgt             -0.008861     -0.025926       -0.012236       -0.054104   \n",
            "education           0.019562      0.031701        0.046144        0.063420   \n",
            "education_num       0.132556      0.044884        0.130512        0.050327   \n",
            "marital_status     -0.063344     -0.035801       -0.189967       -0.024744   \n",
            "occupation          0.018658      0.009743        0.071277       -0.012394   \n",
            "relationship       -0.071272     -0.050528       -0.255549       -0.005533   \n",
            "race                0.019886      0.019081        0.045188        0.135715   \n",
            "capital_gain        1.000000     -0.035876        0.079306        0.012137   \n",
            "capital_loss       -0.035876      1.000000        0.016995        0.015113   \n",
            "hours_per_week      0.079306      0.016995        1.000000       -0.000026   \n",
            "native_country      0.012137      0.015113       -0.000026        1.000000   \n",
            "sex_ Male           0.060852      0.037782        0.231983       -0.008589   \n",
            "income_ >50K        0.310353      0.097807        0.221388        0.019152   \n",
            "age_group          -0.023953     -0.017165       -0.176727        0.017416   \n",
            "log_age             0.097876      0.030874        0.132196       -0.000965   \n",
            "\n",
            "                sex_ Male  income_ >50K  age_group   log_age  \n",
            "age              0.087732      0.234860  -0.175969  0.997001  \n",
            "workclass        0.093855      0.039034  -0.037992  0.023939  \n",
            "fnlwgt           0.027595     -0.013472  -0.009729 -0.081583  \n",
            "education       -0.030635      0.069193  -0.255031  0.009469  \n",
            "education_num    0.002206      0.311045  -0.150413  0.057870  \n",
            "marital_status  -0.121444     -0.195771   0.100470 -0.316073  \n",
            "occupation       0.080110      0.070421   0.008084 -0.009048  \n",
            "relationship    -0.579377     -0.244887   0.098275 -0.271752  \n",
            "race             0.088273      0.070656   0.013613  0.024331  \n",
            "capital_gain     0.060852      0.310353  -0.023953  0.097876  \n",
            "capital_loss     0.037782      0.097807  -0.017165  0.030874  \n",
            "hours_per_week   0.231983      0.221388  -0.176727  0.132196  \n",
            "native_country  -0.008589      0.019152   0.017416 -0.000965  \n",
            "sex_ Male        1.000000      0.209768  -0.028613  0.093982  \n",
            "income_ >50K     0.209768      1.000000  -0.059363  0.249615  \n",
            "age_group       -0.028613     -0.059363   1.000000 -0.194796  \n",
            "log_age          0.093982      0.249615  -0.194796  1.000000  \n"
          ]
        }
      ]
    }
  ]
}